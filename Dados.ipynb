{
 "cells": [
  {
   "cell_type": "code",
   "execution_count": 1,
   "metadata": {},
   "outputs": [],
   "source": [
    "import numpy as np\n",
    "import pandas as pd\n",
    "import matplotlib.pyplot as plt\n",
    "import seaborn as sns\n",
    "import re"
   ]
  },
  {
   "cell_type": "markdown",
   "metadata": {},
   "source": [
    "# COVID-19 - openDataSUS\n",
    "Estudo sobre a incidência de COVID-19 em comparação com outras doenças respiratórias, de causa viral ou bacteriológica.\n",
    "## HIPOTESE\n",
    "Casos de Morte por COVID-19 foram SUPERNOTIFICADOS, tendo em vista que diversos governos estaduais emitiram diretrizes que indicavam a priorização dos óbitos como casos de COVID-19, antes de um exame detalhado da vítima.\n",
    "## TEORIA\n",
    "Mortes por outras doenças respiratórias foram suprimidas e notificadas como Causa Básica do Óbito por COVID-19."
   ]
  },
  {
   "cell_type": "markdown",
   "metadata": {},
   "source": [
    "## Sistema de Informação sobre Mortalidade – SIM (2009 a 2021)"
   ]
  },
  {
   "cell_type": "markdown",
   "metadata": {},
   "source": [
    "No primeiro passo, vamos carregar os dados de cada óbito obtidos do SIM (Sistema de Informação sobre Mortalidade) entre os anos de 2009 a 2021.\n",
    "As colunas mais importantes, para o nosso estudo, são:\n",
    "- DTOBITO (Data do Óbito);\n",
    "- SEXO;\n",
    "- IDADE;\n",
    "- CAUSABAS (Causa Base do Óbito)"
   ]
  },
  {
   "cell_type": "code",
   "execution_count": 2,
   "metadata": {},
   "outputs": [
    {
     "name": "stdout",
     "output_type": "stream",
     "text": [
      "Baixando dados de https://diaad.s3.sa-east-1.amazonaws.com/sim/Mortalidade_Geral_2009.csv\n"
     ]
    },
    {
     "name": "stderr",
     "output_type": "stream",
     "text": [
      "/var/folders/nv/lqyc8nv104gff5kns5mk9gcm0000gp/T/ipykernel_4436/83083126.py:13: FutureWarning: The error_bad_lines argument has been deprecated and will be removed in a future version. Use on_bad_lines in the future.\n",
      "\n",
      "\n",
      "  df_tratado = df_tratado.append(pd.read_csv(url, sep=';', usecols=cols_list, encoding='latin', error_bad_lines=False), ignore_index=True)\n",
      "/var/folders/nv/lqyc8nv104gff5kns5mk9gcm0000gp/T/ipykernel_4436/83083126.py:13: FutureWarning: The frame.append method is deprecated and will be removed from pandas in a future version. Use pandas.concat instead.\n",
      "  df_tratado = df_tratado.append(pd.read_csv(url, sep=';', usecols=cols_list, encoding='latin', error_bad_lines=False), ignore_index=True)\n",
      "/var/folders/nv/lqyc8nv104gff5kns5mk9gcm0000gp/T/ipykernel_4436/83083126.py:13: FutureWarning: The error_bad_lines argument has been deprecated and will be removed in a future version. Use on_bad_lines in the future.\n",
      "\n",
      "\n",
      "  df_tratado = df_tratado.append(pd.read_csv(url, sep=';', usecols=cols_list, encoding='latin', error_bad_lines=False), ignore_index=True)\n"
     ]
    },
    {
     "name": "stdout",
     "output_type": "stream",
     "text": [
      "Baixando dados de https://diaad.s3.sa-east-1.amazonaws.com/sim/Mortalidade_Geral_2010.csv\n"
     ]
    },
    {
     "name": "stderr",
     "output_type": "stream",
     "text": [
      "/var/folders/nv/lqyc8nv104gff5kns5mk9gcm0000gp/T/ipykernel_4436/83083126.py:13: FutureWarning: The frame.append method is deprecated and will be removed from pandas in a future version. Use pandas.concat instead.\n",
      "  df_tratado = df_tratado.append(pd.read_csv(url, sep=';', usecols=cols_list, encoding='latin', error_bad_lines=False), ignore_index=True)\n",
      "/var/folders/nv/lqyc8nv104gff5kns5mk9gcm0000gp/T/ipykernel_4436/83083126.py:13: FutureWarning: The error_bad_lines argument has been deprecated and will be removed in a future version. Use on_bad_lines in the future.\n",
      "\n",
      "\n",
      "  df_tratado = df_tratado.append(pd.read_csv(url, sep=';', usecols=cols_list, encoding='latin', error_bad_lines=False), ignore_index=True)\n"
     ]
    },
    {
     "name": "stdout",
     "output_type": "stream",
     "text": [
      "Baixando dados de https://diaad.s3.sa-east-1.amazonaws.com/sim/Mortalidade_Geral_2011.csv\n"
     ]
    },
    {
     "name": "stderr",
     "output_type": "stream",
     "text": [
      "/var/folders/nv/lqyc8nv104gff5kns5mk9gcm0000gp/T/ipykernel_4436/83083126.py:13: FutureWarning: The frame.append method is deprecated and will be removed from pandas in a future version. Use pandas.concat instead.\n",
      "  df_tratado = df_tratado.append(pd.read_csv(url, sep=';', usecols=cols_list, encoding='latin', error_bad_lines=False), ignore_index=True)\n",
      "/var/folders/nv/lqyc8nv104gff5kns5mk9gcm0000gp/T/ipykernel_4436/83083126.py:13: FutureWarning: The error_bad_lines argument has been deprecated and will be removed in a future version. Use on_bad_lines in the future.\n",
      "\n",
      "\n",
      "  df_tratado = df_tratado.append(pd.read_csv(url, sep=';', usecols=cols_list, encoding='latin', error_bad_lines=False), ignore_index=True)\n"
     ]
    },
    {
     "name": "stdout",
     "output_type": "stream",
     "text": [
      "Baixando dados de https://diaad.s3.sa-east-1.amazonaws.com/sim/Mortalidade_Geral_2012.csv\n"
     ]
    },
    {
     "name": "stderr",
     "output_type": "stream",
     "text": [
      "/var/folders/nv/lqyc8nv104gff5kns5mk9gcm0000gp/T/ipykernel_4436/83083126.py:13: FutureWarning: The frame.append method is deprecated and will be removed from pandas in a future version. Use pandas.concat instead.\n",
      "  df_tratado = df_tratado.append(pd.read_csv(url, sep=';', usecols=cols_list, encoding='latin', error_bad_lines=False), ignore_index=True)\n",
      "/var/folders/nv/lqyc8nv104gff5kns5mk9gcm0000gp/T/ipykernel_4436/83083126.py:13: FutureWarning: The error_bad_lines argument has been deprecated and will be removed in a future version. Use on_bad_lines in the future.\n",
      "\n",
      "\n",
      "  df_tratado = df_tratado.append(pd.read_csv(url, sep=';', usecols=cols_list, encoding='latin', error_bad_lines=False), ignore_index=True)\n"
     ]
    },
    {
     "name": "stdout",
     "output_type": "stream",
     "text": [
      "Baixando dados de https://diaad.s3.sa-east-1.amazonaws.com/sim/Mortalidade_Geral_2013.csv\n"
     ]
    },
    {
     "name": "stderr",
     "output_type": "stream",
     "text": [
      "/var/folders/nv/lqyc8nv104gff5kns5mk9gcm0000gp/T/ipykernel_4436/83083126.py:13: FutureWarning: The frame.append method is deprecated and will be removed from pandas in a future version. Use pandas.concat instead.\n",
      "  df_tratado = df_tratado.append(pd.read_csv(url, sep=';', usecols=cols_list, encoding='latin', error_bad_lines=False), ignore_index=True)\n",
      "/var/folders/nv/lqyc8nv104gff5kns5mk9gcm0000gp/T/ipykernel_4436/83083126.py:13: FutureWarning: The error_bad_lines argument has been deprecated and will be removed in a future version. Use on_bad_lines in the future.\n",
      "\n",
      "\n",
      "  df_tratado = df_tratado.append(pd.read_csv(url, sep=';', usecols=cols_list, encoding='latin', error_bad_lines=False), ignore_index=True)\n"
     ]
    },
    {
     "name": "stdout",
     "output_type": "stream",
     "text": [
      "Baixando dados de https://diaad.s3.sa-east-1.amazonaws.com/sim/Mortalidade_Geral_2014.csv\n"
     ]
    },
    {
     "name": "stderr",
     "output_type": "stream",
     "text": [
      "/var/folders/nv/lqyc8nv104gff5kns5mk9gcm0000gp/T/ipykernel_4436/83083126.py:13: FutureWarning: The frame.append method is deprecated and will be removed from pandas in a future version. Use pandas.concat instead.\n",
      "  df_tratado = df_tratado.append(pd.read_csv(url, sep=';', usecols=cols_list, encoding='latin', error_bad_lines=False), ignore_index=True)\n"
     ]
    },
    {
     "name": "stdout",
     "output_type": "stream",
     "text": [
      "Baixando dados de https://diaad.s3.sa-east-1.amazonaws.com/sim/Mortalidade_Geral_2015.csv\n"
     ]
    },
    {
     "name": "stderr",
     "output_type": "stream",
     "text": [
      "/var/folders/nv/lqyc8nv104gff5kns5mk9gcm0000gp/T/ipykernel_4436/83083126.py:13: FutureWarning: The error_bad_lines argument has been deprecated and will be removed in a future version. Use on_bad_lines in the future.\n",
      "\n",
      "\n",
      "  df_tratado = df_tratado.append(pd.read_csv(url, sep=';', usecols=cols_list, encoding='latin', error_bad_lines=False), ignore_index=True)\n",
      "/var/folders/nv/lqyc8nv104gff5kns5mk9gcm0000gp/T/ipykernel_4436/83083126.py:13: FutureWarning: The frame.append method is deprecated and will be removed from pandas in a future version. Use pandas.concat instead.\n",
      "  df_tratado = df_tratado.append(pd.read_csv(url, sep=';', usecols=cols_list, encoding='latin', error_bad_lines=False), ignore_index=True)\n"
     ]
    },
    {
     "name": "stdout",
     "output_type": "stream",
     "text": [
      "Baixando dados de https://diaad.s3.sa-east-1.amazonaws.com/sim/Mortalidade_Geral_2016.csv\n"
     ]
    },
    {
     "name": "stderr",
     "output_type": "stream",
     "text": [
      "/var/folders/nv/lqyc8nv104gff5kns5mk9gcm0000gp/T/ipykernel_4436/83083126.py:13: FutureWarning: The error_bad_lines argument has been deprecated and will be removed in a future version. Use on_bad_lines in the future.\n",
      "\n",
      "\n",
      "  df_tratado = df_tratado.append(pd.read_csv(url, sep=';', usecols=cols_list, encoding='latin', error_bad_lines=False), ignore_index=True)\n",
      "/var/folders/nv/lqyc8nv104gff5kns5mk9gcm0000gp/T/ipykernel_4436/83083126.py:13: FutureWarning: The frame.append method is deprecated and will be removed from pandas in a future version. Use pandas.concat instead.\n",
      "  df_tratado = df_tratado.append(pd.read_csv(url, sep=';', usecols=cols_list, encoding='latin', error_bad_lines=False), ignore_index=True)\n"
     ]
    },
    {
     "name": "stdout",
     "output_type": "stream",
     "text": [
      "Baixando dados de https://diaad.s3.sa-east-1.amazonaws.com/sim/Mortalidade_Geral_2017.csv\n"
     ]
    },
    {
     "name": "stderr",
     "output_type": "stream",
     "text": [
      "/var/folders/nv/lqyc8nv104gff5kns5mk9gcm0000gp/T/ipykernel_4436/83083126.py:13: FutureWarning: The error_bad_lines argument has been deprecated and will be removed in a future version. Use on_bad_lines in the future.\n",
      "\n",
      "\n",
      "  df_tratado = df_tratado.append(pd.read_csv(url, sep=';', usecols=cols_list, encoding='latin', error_bad_lines=False), ignore_index=True)\n",
      "/var/folders/nv/lqyc8nv104gff5kns5mk9gcm0000gp/T/ipykernel_4436/83083126.py:13: FutureWarning: The frame.append method is deprecated and will be removed from pandas in a future version. Use pandas.concat instead.\n",
      "  df_tratado = df_tratado.append(pd.read_csv(url, sep=';', usecols=cols_list, encoding='latin', error_bad_lines=False), ignore_index=True)\n"
     ]
    },
    {
     "name": "stdout",
     "output_type": "stream",
     "text": [
      "Baixando dados de https://diaad.s3.sa-east-1.amazonaws.com/sim/Mortalidade_Geral_2018.csv\n"
     ]
    },
    {
     "name": "stderr",
     "output_type": "stream",
     "text": [
      "/var/folders/nv/lqyc8nv104gff5kns5mk9gcm0000gp/T/ipykernel_4436/83083126.py:13: FutureWarning: The error_bad_lines argument has been deprecated and will be removed in a future version. Use on_bad_lines in the future.\n",
      "\n",
      "\n",
      "  df_tratado = df_tratado.append(pd.read_csv(url, sep=';', usecols=cols_list, encoding='latin', error_bad_lines=False), ignore_index=True)\n",
      "/var/folders/nv/lqyc8nv104gff5kns5mk9gcm0000gp/T/ipykernel_4436/83083126.py:13: FutureWarning: The frame.append method is deprecated and will be removed from pandas in a future version. Use pandas.concat instead.\n",
      "  df_tratado = df_tratado.append(pd.read_csv(url, sep=';', usecols=cols_list, encoding='latin', error_bad_lines=False), ignore_index=True)\n"
     ]
    },
    {
     "name": "stdout",
     "output_type": "stream",
     "text": [
      "Baixando dados de https://diaad.s3.sa-east-1.amazonaws.com/sim/Mortalidade_Geral_2019.csv\n"
     ]
    },
    {
     "name": "stderr",
     "output_type": "stream",
     "text": [
      "/var/folders/nv/lqyc8nv104gff5kns5mk9gcm0000gp/T/ipykernel_4436/83083126.py:13: FutureWarning: The error_bad_lines argument has been deprecated and will be removed in a future version. Use on_bad_lines in the future.\n",
      "\n",
      "\n",
      "  df_tratado = df_tratado.append(pd.read_csv(url, sep=';', usecols=cols_list, encoding='latin', error_bad_lines=False), ignore_index=True)\n",
      "/var/folders/nv/lqyc8nv104gff5kns5mk9gcm0000gp/T/ipykernel_4436/83083126.py:13: FutureWarning: The frame.append method is deprecated and will be removed from pandas in a future version. Use pandas.concat instead.\n",
      "  df_tratado = df_tratado.append(pd.read_csv(url, sep=';', usecols=cols_list, encoding='latin', error_bad_lines=False), ignore_index=True)\n"
     ]
    },
    {
     "name": "stdout",
     "output_type": "stream",
     "text": [
      "Baixando dados de https://s3.sa-east-1.amazonaws.com/ckan.saude.gov.br/SIM/sim_preliminar_2020.csv\n"
     ]
    },
    {
     "name": "stderr",
     "output_type": "stream",
     "text": [
      "/var/folders/nv/lqyc8nv104gff5kns5mk9gcm0000gp/T/ipykernel_4436/83083126.py:16: FutureWarning: The error_bad_lines argument has been deprecated and will be removed in a future version. Use on_bad_lines in the future.\n",
      "\n",
      "\n",
      "  df_tratado = df_tratado.append(pd.read_csv('https://s3.sa-east-1.amazonaws.com/ckan.saude.gov.br/SIM/sim_preliminar_2020.csv', sep=';', usecols=cols_list, encoding='latin', error_bad_lines=False), ignore_index=True)\n",
      "/var/folders/nv/lqyc8nv104gff5kns5mk9gcm0000gp/T/ipykernel_4436/83083126.py:16: FutureWarning: The frame.append method is deprecated and will be removed from pandas in a future version. Use pandas.concat instead.\n",
      "  df_tratado = df_tratado.append(pd.read_csv('https://s3.sa-east-1.amazonaws.com/ckan.saude.gov.br/SIM/sim_preliminar_2020.csv', sep=';', usecols=cols_list, encoding='latin', error_bad_lines=False), ignore_index=True)\n"
     ]
    },
    {
     "name": "stdout",
     "output_type": "stream",
     "text": [
      "Baixando dados de https://s3.sa-east-1.amazonaws.com/ckan.saude.gov.br/SIM/DO21OPEN.csv\n"
     ]
    },
    {
     "name": "stderr",
     "output_type": "stream",
     "text": [
      "/var/folders/nv/lqyc8nv104gff5kns5mk9gcm0000gp/T/ipykernel_4436/83083126.py:18: FutureWarning: The error_bad_lines argument has been deprecated and will be removed in a future version. Use on_bad_lines in the future.\n",
      "\n",
      "\n",
      "  df_tratado = df_tratado.append(pd.read_csv('https://s3.sa-east-1.amazonaws.com/ckan.saude.gov.br/SIM/DO21OPEN.csv', sep=';', usecols=cols_list, encoding='latin', error_bad_lines=False), ignore_index=True)\n",
      "/var/folders/nv/lqyc8nv104gff5kns5mk9gcm0000gp/T/ipykernel_4436/83083126.py:18: FutureWarning: The frame.append method is deprecated and will be removed from pandas in a future version. Use pandas.concat instead.\n",
      "  df_tratado = df_tratado.append(pd.read_csv('https://s3.sa-east-1.amazonaws.com/ckan.saude.gov.br/SIM/DO21OPEN.csv', sep=';', usecols=cols_list, encoding='latin', error_bad_lines=False), ignore_index=True)\n"
     ]
    },
    {
     "data": {
      "text/html": [
       "<div>\n",
       "<style scoped>\n",
       "    .dataframe tbody tr th:only-of-type {\n",
       "        vertical-align: middle;\n",
       "    }\n",
       "\n",
       "    .dataframe tbody tr th {\n",
       "        vertical-align: top;\n",
       "    }\n",
       "\n",
       "    .dataframe thead th {\n",
       "        text-align: right;\n",
       "    }\n",
       "</style>\n",
       "<table border=\"1\" class=\"dataframe\">\n",
       "  <thead>\n",
       "    <tr style=\"text-align: right;\">\n",
       "      <th></th>\n",
       "      <th>DTOBITO</th>\n",
       "      <th>SEXO</th>\n",
       "      <th>IDADE</th>\n",
       "      <th>CAUSABAS</th>\n",
       "    </tr>\n",
       "  </thead>\n",
       "  <tbody>\n",
       "    <tr>\n",
       "      <th>0</th>\n",
       "      <td>28102009</td>\n",
       "      <td>2</td>\n",
       "      <td>443</td>\n",
       "      <td>I228</td>\n",
       "    </tr>\n",
       "    <tr>\n",
       "      <th>1</th>\n",
       "      <td>6062009</td>\n",
       "      <td>2</td>\n",
       "      <td>201</td>\n",
       "      <td>R99</td>\n",
       "    </tr>\n",
       "    <tr>\n",
       "      <th>2</th>\n",
       "      <td>9022009</td>\n",
       "      <td>1</td>\n",
       "      <td>425</td>\n",
       "      <td>W747</td>\n",
       "    </tr>\n",
       "    <tr>\n",
       "      <th>3</th>\n",
       "      <td>4022009</td>\n",
       "      <td>1</td>\n",
       "      <td>467</td>\n",
       "      <td>C80</td>\n",
       "    </tr>\n",
       "    <tr>\n",
       "      <th>4</th>\n",
       "      <td>8032009</td>\n",
       "      <td>1</td>\n",
       "      <td>441</td>\n",
       "      <td>I219</td>\n",
       "    </tr>\n",
       "  </tbody>\n",
       "</table>\n",
       "</div>"
      ],
      "text/plain": [
       "    DTOBITO SEXO IDADE CAUSABAS\n",
       "0  28102009    2   443     I228\n",
       "1   6062009    2   201      R99\n",
       "2   9022009    1   425     W747\n",
       "3   4022009    1   467      C80\n",
       "4   8032009    1   441     I219"
      ]
     },
     "execution_count": 2,
     "metadata": {},
     "output_type": "execute_result"
    }
   ],
   "source": [
    "# https://diaad.s3.sa-east-1.amazonaws.com/sim/Mortalidade_Geral_2009.csv\n",
    "# ...\n",
    "# https://diaad.s3.sa-east-1.amazonaws.com/sim/Mortalidade_Geral_2019.csv\n",
    "# https://s3.sa-east-1.amazonaws.com/ckan.saude.gov.br/SIM/sim_preliminar_2020.csv\n",
    "# https://s3.sa-east-1.amazonaws.com/ckan.saude.gov.br/SIM/DO21OPEN.csv\n",
    "\n",
    "cols_list = ['DTOBITO', 'SEXO', 'IDADE', 'CAUSABAS']\n",
    "df_tratado = pd.DataFrame(columns=cols_list)\n",
    "\n",
    "for ano in range(2009, 2020):\n",
    "    url = f'https://diaad.s3.sa-east-1.amazonaws.com/sim/Mortalidade_Geral_{ano}.csv'\n",
    "    print(f\"Baixando dados de {url}\")\n",
    "    df_tratado = df_tratado.append(pd.read_csv(url, sep=';', usecols=cols_list, encoding='latin', error_bad_lines=False), ignore_index=True)\n",
    "\n",
    "print(f\"Baixando dados de https://s3.sa-east-1.amazonaws.com/ckan.saude.gov.br/SIM/sim_preliminar_2020.csv\")\n",
    "df_tratado = df_tratado.append(pd.read_csv('https://s3.sa-east-1.amazonaws.com/ckan.saude.gov.br/SIM/sim_preliminar_2020.csv', sep=';', usecols=cols_list, encoding='latin', error_bad_lines=False), ignore_index=True)\n",
    "print(f\"Baixando dados de https://s3.sa-east-1.amazonaws.com/ckan.saude.gov.br/SIM/DO21OPEN.csv\")\n",
    "df_tratado = df_tratado.append(pd.read_csv('https://s3.s\n",
    "a-east-1.amazonaws.com/ckan.saude.gov.br/SIM/DO21OPEN.csv', sep=';', usecols=cols_list, encoding='latin', error_bad_lines=False), ignore_index=True)\n",
    "\n",
    "df_tratado.head()"
   ]
  },
  {
   "cell_type": "markdown",
   "metadata": {},
   "source": [
    "Para obtermos o ano do óbito (que será usado adiante para catalogar os dados), criamos uma nova coluna \"ANO\" que conterá os dados de ano da coluna \"DTOBITO\", cujo formato é 'dMMyyyy'. Ou seja, o ano corresponde aos 4 últimos números do dado."
   ]
  },
  {
   "cell_type": "code",
   "execution_count": 3,
   "metadata": {},
   "outputs": [
    {
     "data": {
      "text/html": [
       "<div>\n",
       "<style scoped>\n",
       "    .dataframe tbody tr th:only-of-type {\n",
       "        vertical-align: middle;\n",
       "    }\n",
       "\n",
       "    .dataframe tbody tr th {\n",
       "        vertical-align: top;\n",
       "    }\n",
       "\n",
       "    .dataframe thead th {\n",
       "        text-align: right;\n",
       "    }\n",
       "</style>\n",
       "<table border=\"1\" class=\"dataframe\">\n",
       "  <thead>\n",
       "    <tr style=\"text-align: right;\">\n",
       "      <th></th>\n",
       "      <th>DTOBITO</th>\n",
       "      <th>SEXO</th>\n",
       "      <th>IDADE</th>\n",
       "      <th>CAUSABAS</th>\n",
       "      <th>ANO</th>\n",
       "    </tr>\n",
       "  </thead>\n",
       "  <tbody>\n",
       "    <tr>\n",
       "      <th>0</th>\n",
       "      <td>28102009</td>\n",
       "      <td>2</td>\n",
       "      <td>443</td>\n",
       "      <td>I228</td>\n",
       "      <td>2009</td>\n",
       "    </tr>\n",
       "    <tr>\n",
       "      <th>1</th>\n",
       "      <td>6062009</td>\n",
       "      <td>2</td>\n",
       "      <td>201</td>\n",
       "      <td>R99</td>\n",
       "      <td>2009</td>\n",
       "    </tr>\n",
       "    <tr>\n",
       "      <th>2</th>\n",
       "      <td>9022009</td>\n",
       "      <td>1</td>\n",
       "      <td>425</td>\n",
       "      <td>W747</td>\n",
       "      <td>2009</td>\n",
       "    </tr>\n",
       "    <tr>\n",
       "      <th>3</th>\n",
       "      <td>4022009</td>\n",
       "      <td>1</td>\n",
       "      <td>467</td>\n",
       "      <td>C80</td>\n",
       "      <td>2009</td>\n",
       "    </tr>\n",
       "    <tr>\n",
       "      <th>4</th>\n",
       "      <td>8032009</td>\n",
       "      <td>1</td>\n",
       "      <td>441</td>\n",
       "      <td>I219</td>\n",
       "      <td>2009</td>\n",
       "    </tr>\n",
       "  </tbody>\n",
       "</table>\n",
       "</div>"
      ],
      "text/plain": [
       "    DTOBITO SEXO IDADE CAUSABAS   ANO\n",
       "0  28102009    2   443     I228  2009\n",
       "1   6062009    2   201      R99  2009\n",
       "2   9022009    1   425     W747  2009\n",
       "3   4022009    1   467      C80  2009\n",
       "4   8032009    1   441     I219  2009"
      ]
     },
     "execution_count": 3,
     "metadata": {},
     "output_type": "execute_result"
    }
   ],
   "source": [
    "df_tratado['ANO'] = df_tratado['DTOBITO'].map(lambda x: int(re.findall(r'\\d{4}$', str(x))[0]))\n",
    "\n",
    "df_tratado.head()"
   ]
  },
  {
   "cell_type": "markdown",
   "metadata": {},
   "source": [
    "## CASOS DE COVID-19"
   ]
  },
  {
   "cell_type": "markdown",
   "metadata": {},
   "source": [
    "Segundo o documento anexo \"Orientações para o preenchimento da Declaração de Óbito - COVID-19\",,,,,,,,, o Governo do Estado de São Paulo (seguindo as orientações determinadas pelo Ministério da Saúde), orienta seus médicos a preencherem a Causa Básica do Óbito (campo CAUSABAS) com a sigla **B34.2**, sendo que, no conjunto de dados do SIM, estaria o óbito registrado como **B342**.\n",
    "\n",
    "Com esses dados em mãos, isolamos os casos cuja causas do óbito foram:\n",
    "- **B34.2** - Infecção por Coronavírus de localização não especificada\n",
    "- **U04.9** - Síndrome Respiratória Aguda Grave - SARS\n",
    "- **U07.1** - Código não habilitado no SIM"
   ]
  },
  {
   "cell_type": "code",
   "execution_count": 4,
   "metadata": {},
   "outputs": [
    {
     "data": {
      "image/png": "[encoded data removed]",
      "text/plain": [
       "<Figure size 576x576 with 1 Axes>"
      ]
     },
     "metadata": {
      "needs_background": "light"
     },
     "output_type": "display_data"
    }
   ],
   "source": [
    "codes = ['B342', 'U049', 'U071']\n",
    "df_covid = df_tratado[df_tratado['CAUSABAS'].isin(codes)]\n",
    "covid_por_ano = df_covid.groupby(['ANO']).size().reset_index(name='COUNTS')\n",
    "\n",
    "plt.figure(figsize=(8,8))\n",
    "plt.title('COVID-19 cases - 2009 to 2021')\n",
    "#plt.xticks(rotation=90)\n",
    "ax = sns.barplot(x='ANO', y='COUNTS', data=covid_por_ano[covid_por_ano['ANO'].isin([2020, 2021])])\n",
    "ax.bar_label(ax.containers[0])\n",
    "plt.show()"
   ]
  },
  {
   "cell_type": "markdown",
   "metadata": {},
   "source": [
    "## CASOS DE DENGUE"
   ]
  },
  {
   "cell_type": "markdown",
   "metadata": {},
   "source": [
    "Agora, vamos comparar os resultados obtidos com o número de casos de **Dengue**.  \n",
    "\n",
    "Códigos para Dengue:\n",
    "- A90 - Dengue\n",
    "- A91 - Febre hemorrágica devida ao vírus do dengue"
   ]
  },
  {
   "cell_type": "code",
   "execution_count": 5,
   "metadata": {},
   "outputs": [
    {
     "data": {
      "image/png": "[encoded data removed]",
      "text/plain": [
       "<Figure size 1080x432 with 1 Axes>"
      ]
     },
     "metadata": {
      "needs_background": "light"
     },
     "output_type": "display_data"
    }
   ],
   "source": [
    "den_codes = ['A90', 'A91']\n",
    "df_dengue = df_tratado[df_tratado['CAUSABAS'].isin(den_codes)]\n",
    "dengue_por_ano = df_dengue.groupby(['ANO']).size().reset_index(name='COUNTS')\n",
    "\n",
    "plt.figure(figsize=(15,6))\n",
    "plt.title('DENGUE cases (A90 / A91) - 2009 to 2021')\n",
    "#plt.xticks(rotation=90)\n",
    "ax = sns.barplot(x='ANO', y='COUNTS', data=dengue_por_ano)\n",
    "ax.bar_label(ax.containers[0])\n",
    "#sns.lineplot(data=dengue_por_ano['COUNTS'])\n",
    "plt.show()\n"
   ]
  },
  {
   "cell_type": "markdown",
   "metadata": {},
   "source": [
    "## CASOS DE TUBERCULOSE"
   ]
  },
  {
   "cell_type": "markdown",
   "metadata": {},
   "source": [
    "Agora, vamos comparar os resultados obtidos com o número de casos de **Tuberculose**.\n",
    "\n",
    "Códigos para Tuberculose:\n",
    "- A15 - Tuberculose respiratória, com confirmação bacteriológica e histológica\n",
    "- A16 - Tuberculose das vias respiratórias, sem confirmação bacteriológica ou histológica\n",
    "- A17 - Tuberculose do sistema nervoso\n",
    "- A18 - Tuberculose de outros órgãos\n",
    "- A19 - Tuberculose miliar\n",
    "- B90 - Sequelas de tuberculose\n",
    "- J65 - Pneumoconiose associada com tuberculose"
   ]
  },
  {
   "cell_type": "code",
   "execution_count": 6,
   "metadata": {},
   "outputs": [
    {
     "data": {
      "image/png": "[encoded data removed]",
      "text/plain": [
       "<Figure size 1080x432 with 1 Axes>"
      ]
     },
     "metadata": {
      "needs_background": "light"
     },
     "output_type": "display_data"
    }
   ],
   "source": [
    "tub_codes = ['A15', 'A16', 'A17', 'A18', 'A19', 'B90', 'J65']\n",
    "df_tuberculose = df_tratado[df_tratado['CAUSABAS'].isin(tub_codes)]\n",
    "tuberculose_por_ano = df_tuberculose.groupby(['ANO']).size().reset_index(name='COUNTS')\n",
    "\n",
    "plt.figure(figsize=(15,6))\n",
    "plt.title('TUBERCULOSIS cases - 2009 to 2021')\n",
    "ax = sns.barplot(x='ANO', y='COUNTS', data=tuberculose_por_ano)\n",
    "ax.bar_label(ax.containers[0])\n",
    "#sns.lineplot(data=tuberculose_por_ano['COUNTS'])\n",
    "plt.show()"
   ]
  },
  {
   "cell_type": "markdown",
   "metadata": {},
   "source": [
    "## CASOS DE PNEUMONIA"
   ]
  },
  {
   "cell_type": "markdown",
   "metadata": {},
   "source": [
    "Agora, vamos comparar os resultados obtidos com o número de casos de **Pneumonia**.\n",
    "\n",
    "Códigos para Pneumonia:\n",
    "- A40.3 - Septicemia por Streptococcus pneumonia\n",
    "- B05.2 - Sarampo complicado por pneumonia\n",
    "- B20.6 - Doença pelo HIV resultando em pneumonia por Pneumocystis jirovecii\n",
    "- B95.3 - Streptococcus pneumoniae, como causa de doenças classificadas em outros capítulos\n",
    "- B96.0 - Mycoplasma pneumoniae (M. pneumoniae), como causa de doenças classificadas em outros capítulos\n",
    "- B96.1 - Klebsiella pneumoniae (M. pneumoniae), como causa de doenças classificadas em outros capítulos\n",
    "- J10.0 - Influenza com pneumonia devida a outro vírus da influenza (gripe) identificado\n",
    "- J11.0 - Influenza (gripe) com pneumonia, devida a vírus não identificado\n",
    "- J12 - Pneumonia viral não classificada em outra parte\n",
    "- J12.0 - Pneumonia devida a adenovírus\n",
    "- J12.1 - Pneumonia devida a vírus respiratório sincicial\n",
    "- J12.2 - Pneumonia devida à parainfluenza\n",
    "- J12.8 - Outras pneumonias virais\n",
    "- J12.9 - Pneumonia viral não especificada\n",
    "- J13 - Pneumonia devida a Streptococcus pneumoniae\n",
    "- J14 - Pneumonia devida a Haemophilus infuenzae\n",
    "- J15 - Pneumonia bacteriana não classificada em outra parte\n",
    "- J15.0 - Pneumonia devida à Klebsiella pneumoniae\n",
    "- J15.1 - Pneumonia devida a Pseudomonas\n",
    "- J15.2 - Pneumonia devida a Staphylococcus\n",
    "- J15.3 - Pneumonia devida a Streptococcus do grupo B\n",
    "- J15.4 - Pneumonia devida a outros estreptococos\n",
    "- J15.5 - Pneumonia devida a Escherichia coli\n",
    "- J15.6 - Pneumonia devida a outras bactérias aeróbicas gram-negativas\n",
    "- J15.7 - Pneumonia devida a Mycoplasma pneumoniae\n",
    "- J15.8 - Outras pneumonias bacterianas\n",
    "- J15.9 - Pneumonia bacteriana não especificada\n",
    "- J16 - Pneumonia devida a outros microorganismos infecciosos especificados não classificados em outra parte\n",
    "- J16.0 - Pneumonia devida a clamídias\n",
    "- J16.8 - Pneumonia devida a outros microorganismos infecciosos especificados\n",
    "- J17 - Pneumonia em doenças classificadas em outra parte\n",
    "- J17.0 - Pneumonia em doenças bacterianas classificadas em outra parte\n",
    "- J17.1 - Pneumonia em doenças virais classificadas em outra parte\n",
    "- J17.2 - Pneumonia em micoses classificadas em outra parte\n",
    "- J17.3 - Pneumonia em doenças parasitárias classificadas em outra parte\n",
    "- J17.8 - Pneumonia em outras doenças classificadas em outra parte\n",
    "- J18 - Pneumonia por microorganismo não especificada\n",
    "- J18.0 - Broncopneumonia não especificada\n",
    "- J18.1 - Pneumonia lobar não especificada\n",
    "- J18.2 - Pneumonia hipostática não especificada\n",
    "- J18.8 - Outras pneumonias devidas a microorganismos não especificados\n",
    "- J18.9 - Pneumonia não especificada\n",
    "- J20.0 - Bronquite aguda devida a Mycoplasma pneumoniae\n",
    "- J85.1 - Abscesso do pulmão com pneumonia\n",
    "- J85.2 - Abscesso do pulmão sem pneumonia\n",
    "- P23 - Pneumonia congênita\n",
    "- P23.0 - Pneumonia congênita devida a agente viral\n",
    "- P23.1 - Pneumonia congênita devida a Clamídia\n",
    "- P23.2 - Pneumonia congênita devida a estafilococo\n",
    "- P23.3 - Pneumonia congênita devida a estreptococo do grupo B\n",
    "- P23.4 - Pneumonia congênita devida a Escherichia coli\n",
    "- P23.5 - Pneumonia congênita devida a Pseudomonas\n",
    "- P23.6 - Pneumonia congênita devida a outros agentes bacterianos\n",
    "- P23.8 - Pneumonia congênita devida a outros organismos\n",
    "- P23.9 - Pneumonia congênita não especificada"
   ]
  },
  {
   "cell_type": "code",
   "execution_count": 7,
   "metadata": {},
   "outputs": [
    {
     "data": {
      "image/png": "[encoded data removed]",
      "text/plain": [
       "<Figure size 1080x432 with 1 Axes>"
      ]
     },
     "metadata": {
      "needs_background": "light"
     },
     "output_type": "display_data"
    }
   ],
   "source": [
    "pne_codes = [\n",
    "    \"A403\",\n",
    "    \"B052\",\n",
    "    \"B206\",\n",
    "    \"B953\",\n",
    "    \"B960\",\n",
    "    \"B961\",\n",
    "    \"J100\",\n",
    "    \"J110\",\n",
    "    \"J12\",\n",
    "    \"J120\",\n",
    "    \"J121\",\n",
    "    \"J122\",\n",
    "    \"J128\",\n",
    "    \"J129\",\n",
    "    \"J13\",\n",
    "    \"J14\",\n",
    "    \"J15\",\n",
    "    \"J150\",\n",
    "    \"J151\",\n",
    "    \"J152\",\n",
    "    \"J153\",\n",
    "    \"J154\",\n",
    "    \"J155\",\n",
    "    \"J156\",\n",
    "    \"J157\",\n",
    "    \"J158\",\n",
    "    \"J159\",\n",
    "    \"J16\",\n",
    "    \"trap\",\n",
    "    \"J160\",\n",
    "    \"J168\",\n",
    "    \"J17\",\n",
    "    \"J170\",\n",
    "    \"J171\",\n",
    "    \"J172\",\n",
    "    \"J173\",\n",
    "    \"J178\",\n",
    "    \"J18\",\n",
    "    \"J180\",\n",
    "    \"J181\",\n",
    "    \"J182\",\n",
    "    \"J188\",\n",
    "    \"J189\",\n",
    "    \"J200\",\n",
    "    \"J851\",\n",
    "    \"J852\",\n",
    "    \"P23\",\n",
    "    \"P230\",\n",
    "    \"P231\",\n",
    "    \"P232\",\n",
    "    \"P233\",\n",
    "    \"P234\",\n",
    "    \"P235\",\n",
    "    \"P236\",\n",
    "    \"P238\",\n",
    "    \"P239\"\n",
    "]\n",
    "df_pneumonia = df_tratado[df_tratado['CAUSABAS'].isin(pne_codes)]\n",
    "pneumonia_por_ano = df_pneumonia.groupby(['ANO']).size().reset_index(name='COUNTS')\n",
    "\n",
    "plt.figure(figsize=(15,6))\n",
    "plt.title('PNEUMONIA cases - 2009 to 2021')\n",
    "ax = sns.barplot(x='ANO', y='COUNTS', data=pneumonia_por_ano)\n",
    "ax.bar_label(ax.containers[0])\n",
    "#sns.lineplot(data=pneumonia_por_ano['COUNTS'])\n",
    "plt.show()"
   ]
  },
  {
   "cell_type": "markdown",
   "metadata": {},
   "source": [
    "Perceba que, em 2020 e 2021, há uma redução de cerca de 18% entre os mortos em 2019 quanto aos mortos em 2020 e 2021.   \n",
    "Esta diferença é quase nula quando se trata dos números de 2020 e 2021 (69501 e 69241, respectivamente).\n",
    "\n",
    "**CONTINUA >>**"
   ]
  }
 ],
 "metadata": {
  "kernelspec": {
   "display_name": "Python 3.9.13 64-bit",
   "language": "python",
   "name": "python3"
  },
  "language_info": {
   "codemirror_mode": {
    "name": "ipython",
    "version": 3
   },
   "file_extension": ".py",
   "mimetype": "text/x-python",
   "name": "python",
   "nbconvert_exporter": "python",
   "pygments_lexer": "ipython3",
   "version": "3.9.13"
  },
  "orig_nbformat": 4,
  "vscode": {
   "interpreter": {
    "hash": "aee8b7b246df8f9039afb4144a1f6fd8d2ca17a180786b69acc140d282b71a49"
   }
  }
 },
 "nbformat": 4,
 "nbformat_minor": 2
}
